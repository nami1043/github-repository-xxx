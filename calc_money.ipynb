{
 "cells": [
  {
   "cell_type": "markdown",
   "id": "3359a8c3-6892-449e-8a6e-c442f3096a39",
   "metadata": {},
   "source": [
    "～金利計算～\n",
    "\n",
    "input関数で元金、金利、年数を入力\n",
    "入力の年数分の金利（年利）を計算し年数と金額を表示する\n",
    "\n",
    "\n",
    "＜例＞\n",
    "\n",
    "元金を整数で入力して下さい＞＞ 500000\n",
    "金利をパーセント数で入力してください＞＞ 2.5\n",
    "知りたいのは何年後までですか？\n",
    "整数を入力してください＞＞ 4\n",
    "1 年後 512499 円になります\n",
    "2 年後 525311 円になります\n",
    "3 年後 538443 円になります\n",
    "4 年後 551904 円になります"
   ]
  },
  {
   "cell_type": "code",
   "execution_count": 1,
   "id": "6f9e2cf0-d58c-4e5e-b46b-ce6fa77f539b",
   "metadata": {},
   "outputs": [],
   "source": [
    "def calc_money():\n",
    "    \n",
    "    \n",
    "    try:\n",
    "        principal = int(input(\"元金を整数で入力して下さい＞＞\"))\n",
    "        interest = float(input(\"金利をパーセント数で入力してください＞＞\"))\n",
    "        year = int(input(\"知りたいのは何年後までですか？\\n整数を入力してください＞＞\"))\n",
    "    \n",
    "    #try,except文でエラーを表示\n",
    "    except Exception as e:\n",
    "        print(\"計算できません＞＞整数または小数点を入力してください\")\n",
    "        print(e)\n",
    "        \n",
    "    p = principal\n",
    "    i = interest/100\n",
    "    y = year\n",
    "    \n",
    "    #変数countの初期値0を代入\n",
    "    count = 0\n",
    "    \n",
    "    #while文で入力された年数分処理を繰り返す\n",
    "    while count < y :\n",
    "        count += 1\n",
    "        p = int(p * (1 + i))\n",
    "        print(count,\"年後\",p,\"円になります\")"
   ]
  },
  {
   "cell_type": "code",
   "execution_count": null,
   "id": "23943034-fda1-4029-b2e1-cb9a176b5433",
   "metadata": {},
   "outputs": [],
   "source": [
    "calc_money()"
   ]
  }
 ],
 "metadata": {
  "kernelspec": {
   "display_name": "Python 3",
   "language": "python",
   "name": "python3"
  },
  "language_info": {
   "codemirror_mode": {
    "name": "ipython",
    "version": 3
   },
   "file_extension": ".py",
   "mimetype": "text/x-python",
   "name": "python",
   "nbconvert_exporter": "python",
   "pygments_lexer": "ipython3",
   "version": "3.8.10"
  },
  "widgets": {
   "application/vnd.jupyter.widget-state+json": {
    "state": {},
    "version_major": 2,
    "version_minor": 0
   }
  }
 },
 "nbformat": 4,
 "nbformat_minor": 5
}
